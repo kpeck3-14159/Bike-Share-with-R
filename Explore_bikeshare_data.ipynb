{
 "cells": [
  {
   "cell_type": "markdown",
   "metadata": {},
   "source": [
    "### Explore Bike Share Data"
   ]
  },
  {
   "cell_type": "code",
   "execution_count": null,
   "metadata": {},
   "outputs": [],
   "source": [
    "ny = read.csv('new_york_city.csv')\n",
    "wash = read.csv('washington.csv')\n",
    "chi = read.csv('chicago.csv')\n",
    "library(ggplot2)"
   ]
  },
  {
   "cell_type": "code",
   "execution_count": null,
   "metadata": {},
   "outputs": [],
   "source": [
    "dim(ny)\n",
    "head(ny,2)"
   ]
  },
  {
   "cell_type": "code",
   "execution_count": null,
   "metadata": {},
   "outputs": [],
   "source": [
    "dim(wash)\n",
    "head(wash, 2)"
   ]
  },
  {
   "cell_type": "code",
   "execution_count": null,
   "metadata": {},
   "outputs": [],
   "source": [
    "dim(chi)\n",
    "head(chi, 2)"
   ]
  },
  {
   "cell_type": "code",
   "execution_count": null,
   "metadata": {},
   "outputs": [],
   "source": [
    "## It will be easier to merge our dataframes into one. Store the column names of Chicago into a variable. \n",
    "## Create new dataframe with those column names.\n",
    "x <- c(names(chi), 'City')\n",
    "cities <- data.frame(matrix(ncol = 10, nrow = 0))\n",
    "colnames(cities) <- x\n",
    "head(cities)"
   ]
  },
  {
   "cell_type": "code",
   "execution_count": null,
   "metadata": {},
   "outputs": [],
   "source": [
    "##This function will add any  missing columns, fill in values for city, and append the sets to the new dataframe.\n",
    "dataMerge <- function(df_city, city){\n",
    "     ##Check for Washington since it needs three columns added instead of one\n",
    "    if (city == 'Washington DC'){\n",
    "        df_city <- cbind(df_city, Gender='', Birth.Year='', City=city)\n",
    "        cities <<- rbind(cities, df_city)\n",
    "    } \n",
    "    ##Add the city column and row bind the rows to cities.\n",
    "    else {\n",
    "        df_city <- cbind(df_city, City = city)\n",
    "        cities <<- rbind(cities, df_city)\n",
    "    }\n",
    "    return (dim(cities))\n",
    "}"
   ]
  },
  {
   "cell_type": "code",
   "execution_count": null,
   "metadata": {},
   "outputs": [],
   "source": [
    "dataMerge(ny, 'New York City')"
   ]
  },
  {
   "cell_type": "code",
   "execution_count": null,
   "metadata": {},
   "outputs": [],
   "source": [
    "dataMerge(wash, 'Washington DC')"
   ]
  },
  {
   "cell_type": "code",
   "execution_count": null,
   "metadata": {},
   "outputs": [],
   "source": [
    "dataMerge(chi, 'Chicago')"
   ]
  },
  {
   "cell_type": "code",
   "execution_count": null,
   "metadata": {},
   "outputs": [],
   "source": [
    "## Remove null values from the combined dataset\n",
    "cities<-na.omit(cities)\n",
    "dim(cities)"
   ]
  },
  {
   "cell_type": "markdown",
   "metadata": {},
   "source": [
    "### Question 1\n",
    "\n",
    "\n",
    "What is the most popular day of the week for people to use a bike share across all three cities combined?"
   ]
  },
  {
   "cell_type": "code",
   "execution_count": null,
   "metadata": {},
   "outputs": [],
   "source": [
    "# First convert Start.Time and End.Time to a datetime function.\n",
    "cities$Start.Time <- as.POSIXct(cities$Start.Time, format='%Y-%m-%d %H:%M:%S', tz='EST')\n",
    "cities$End.Time <- as.POSIXct(cities$End.Time, format='%Y-%m-%d %H:%M:%S', tz='EST')\n",
    "\n",
    "## Extract the numeric day of the week and the actual day of the week from Start.Time column to a new column\n",
    "## Concantenate the values together\n",
    "cities$Weekday <- paste((as.POSIXlt(cities$Start.Time)$wday + 1), (weekdays(cities$Start.Time)), sep = ' - ')\n",
    "head(cities, 2)"
   ]
  },
  {
   "cell_type": "code",
   "execution_count": null,
   "metadata": {},
   "outputs": [],
   "source": [
    "## Calulate the counts per weekday\n",
    "xtabs(~Weekday, data = cities)"
   ]
  },
  {
   "cell_type": "code",
   "execution_count": null,
   "metadata": {},
   "outputs": [],
   "source": [
    "# Plot a distribution of the number of bike checkouts per day.\n",
    "ggplot(cities, aes(Weekday)) +\n",
    "    geom_histogram(stat=\"count\",  color = 'black', fill = '#099DD9', alpha = 0.75) +\n",
    "    ggtitle('Distribution of the Number of Trips per Weekday') +\n",
    "    stat_count(aes(y=..count..+1000, label = ..count..), geom=\"text\") +\n",
    "    labs(x='Weekdays', y='Number of trips in all cities')"
   ]
  },
  {
   "cell_type": "markdown",
   "metadata": {},
   "source": [
    "**Summary**\n",
    "\n",
    "> By combining the data into one master dataframe, a frequency count for each weekday is the best representation of this data. It is not too surprising that Saturday and Sunday, being the weekend, had very similar values that were lower than traditional working days.  The distribution is roughly normal with Wednesday having the most bike share checkouts with a total of 24,370.  "
   ]
  },
  {
   "cell_type": "markdown",
   "metadata": {},
   "source": [
    "### Question 2\n",
    "\n",
    "What is the average trip duration in each city?"
   ]
  },
  {
   "cell_type": "code",
   "execution_count": null,
   "metadata": {},
   "outputs": [],
   "source": [
    "## Display the summary statistics for the average trip duration.  The unit of measure for Trip.Duration is in seconds.\n",
    "## Dividing that column by 60 will show the units in minutes, which seems more realistic.\n",
    "\n",
    "by(cities$Trip.Duration/60, cities$City, summary)"
   ]
  },
  {
   "cell_type": "markdown",
   "metadata": {},
   "source": [
    "> There are certainly outliers in the data from New York City and Washington.  18K minutes is over two years, which would make it more of a rent-to-own system than a bike share.  It seems unlikely that a person would do a bike share for longer than 12 hours, or 60 minutes, on any given day. "
   ]
  },
  {
   "cell_type": "code",
   "execution_count": null,
   "metadata": {},
   "outputs": [],
   "source": [
    "## Plot the data on separate box plots. Add the upper limit of the y axis to be 720 to exclude the extreme outliers.\n",
    "## Zoom into the portion of the graph that shows the box, by setting the coord_cartesian limit to 50.\n",
    "ggplot(cities, aes(x=City, y=Trip.Duration/60, color=City)) +\n",
    "    geom_boxplot() +\n",
    "    labs(x='City', y='Length of Trip in Minutes') +\n",
    "    ggtitle('Boxplots of the Summary Statistics of Trips per City') +\n",
    "    scale_y_continuous(limits = c(0, 720)) +\n",
    "    coord_cartesian(ylim = c(0,50)) +\n",
    "    stat_summary(fun.y=mean, geom='point', shape=23, size=10)"
   ]
  },
  {
   "cell_type": "markdown",
   "metadata": {},
   "source": [
    "**Summary**\n",
    "\n",
    "> The data is definitely skewed right for all three cities with the mean falling into the top half of the boxplot box.  There are some people who rent a bike for several hours at a time; however, the majority of people only participate in the ride share for roughly 5 to 20 minutes in a single trip.  Washington DC has the longest trips of the three cities with the bulk ranging between 6.848 and 20.554.  New York City and Chicago are quite similar with the ranges being approximately 5.8 up to 15.9 and 14.9 respectively. "
   ]
  },
  {
   "cell_type": "markdown",
   "metadata": {},
   "source": [
    "### Question 3\n",
    "\n",
    "In New York City, what impact does age have on bike share trips?  Additionally, is there a difference between men and women in the age groups?"
   ]
  },
  {
   "cell_type": "code",
   "execution_count": null,
   "metadata": {},
   "outputs": [],
   "source": [
    "## Removes null values\n",
    "ny <- na.omit(ny)"
   ]
  },
  {
   "cell_type": "code",
   "execution_count": null,
   "metadata": {},
   "outputs": [],
   "source": [
    "##Creates an age column based on \n",
    "ny$Age <- 2022 - ny$Birth.Year\n",
    "head(ny, 2)"
   ]
  },
  {
   "cell_type": "code",
   "execution_count": null,
   "metadata": {},
   "outputs": [],
   "source": [
    "## Get a feel for this new column\n",
    "summary(ny$Age)"
   ]
  },
  {
   "cell_type": "markdown",
   "metadata": {},
   "source": [
    "> The minimum age of 21 seems reasonable; however, the maximum age is too high for the average human.  To error on the side of caution, limit the upper age boundary to equal to 80."
   ]
  },
  {
   "cell_type": "code",
   "execution_count": null,
   "metadata": {},
   "outputs": [],
   "source": [
    "## Remove records of individuals with an age over 80.\n",
    "ny <- ny[which(ny$Age <= 80),]\n",
    "\n",
    "## Summarize the Age and Gender columns\n",
    "summary(ny$Age)\n",
    "aggregate(ny$Age, list(ny$Gender), FUN=mean)"
   ]
  },
  {
   "cell_type": "markdown",
   "metadata": {},
   "source": [
    "> The means for the gender groups are quite close. Plotting the histogram will show if each group has the same distribution."
   ]
  },
  {
   "cell_type": "code",
   "execution_count": null,
   "metadata": {},
   "outputs": [],
   "source": [
    "## Plot a Histogram of the ages of riders broken out by gender. \n",
    "ggplot(ny, aes(x=Age, fill = Gender)) +\n",
    "    geom_histogram(binwidth = 5,alpha = 0.5, position = 'identity') +\n",
    "    labs(x='Age in Years', y='Number of Bike Share Trips') +\n",
    "    ggtitle('Histogram of Bike Shares in New York by Age and Gender') +\n",
    "    scale_fill_manual(labels = c('Undisclosed', 'Female', 'Male'), values = c(\"#F79420\", \"#eb17e7\", \"#099DD9\")) + \n",
    "    facet_wrap(~Gender)"
   ]
  },
  {
   "cell_type": "markdown",
   "metadata": {},
   "source": [
    "> This clearly shows that men use the bike share system more than women or of undisclosed gender from a strictly volume perspective. "
   ]
  },
  {
   "cell_type": "code",
   "execution_count": null,
   "metadata": {},
   "outputs": [],
   "source": [
    "## Plot Histogram of the proportion or density of the genders\n",
    "ggplot(ny, aes(x=Age, fill = Gender)) +\n",
    "    geom_histogram(aes(y=..density..), binwidth = 5,alpha = 0.5, position = 'identity') +\n",
    "    labs(x='Age in Years', y='Proportion of Bike Share Trips') +\n",
    "    ggtitle('Density of Bike Shares in New York by Age and Gender') +\n",
    "    scale_fill_manual(labels = c('Undisclosed', 'Female', 'Male'), values = c(\"#F79420\", \"#eb17e7\", \"#099DD9\")) \n"
   ]
  },
  {
   "cell_type": "markdown",
   "metadata": {},
   "source": [
    "**Summary**\n",
    "\n",
    "> The effect of age on the number of bike share trips made is quite significant.  People from 30 to 50 use the system far more than any other set of ages.  As one might expect, the usage drops significantly the older the population gets.  In contrast, there is not a clear difference between the usage of men, women, and undisclosed genders from a proportional stand point, meaning gender itself does not alter the distribution of age.  At least in New York City, though, men use the system far more than women by about 300%."
   ]
  },
  {
   "cell_type": "code",
   "execution_count": null,
   "metadata": {},
   "outputs": [],
   "source": [
    "system('python -m nbconvert Explore_bikeshare_data.ipynb')"
   ]
  }
 ],
 "metadata": {
  "kernelspec": {
   "display_name": "R",
   "language": "R",
   "name": "ir"
  },
  "language_info": {
   "codemirror_mode": "r",
   "file_extension": ".r",
   "mimetype": "text/x-r-source",
   "name": "R",
   "pygments_lexer": "r",
   "version": "3.5.1"
  }
 },
 "nbformat": 4,
 "nbformat_minor": 2
}
